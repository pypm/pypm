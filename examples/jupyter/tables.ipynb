{
 "cells": [
  {
   "cell_type": "markdown",
   "metadata": {},
   "source": [
    "# Examining a pyPM model with tables\n",
    "\n",
    "In pypm/tools/tables, methods are provided to show the model definition in table format\n",
    "\n",
    "* connectors, shown in order of their execution for each cycle: print(table.connector_table(model, width=120)\n",
    "* populations: print(table.population_table(model, width=120)\n",
    "* parameters: print(table.parameter_table(model, width=120)\n",
    "* modifiers: print(table.modifier_table(model, width=120)\n",
    "* injectors: print(table.injector_table(model, width=120)\n",
    "* delays: print(table.delay_table(model, width=120)\n",
    "* variable parameters: print(table.variable_parameter_table(model, width=120)"
   ]
  },
  {
   "cell_type": "code",
   "execution_count": 1,
   "metadata": {},
   "outputs": [],
   "source": [
    "from pathlib import Path\n",
    "from pypm import Model\n",
    "from pypm.tools import table"
   ]
  },
  {
   "cell_type": "code",
   "execution_count": 2,
   "metadata": {},
   "outputs": [],
   "source": [
    "example_dir = Path('..').resolve()\n",
    "path_model_2 = example_dir / 'ref_model_2.pypm'\n",
    "ref_model_2 = Model.open_file(path_model_2)\n",
    "\n",
    "width = 110"
   ]
  },
  {
   "cell_type": "code",
   "execution_count": 8,
   "metadata": {},
   "outputs": [
    {
     "name": "stdout",
     "output_type": "stream",
     "text": [
      "Connector             Type         From                  To                    Parameters               Values\n",
      "                                   (populations)         (populations)                                        \n",
      "==============================================================================================================\n",
      "infection cycle       Multiplier   susceptible           infected              alpha                     0.385\n",
      "                                   contagious                                                                 \n",
      "                                   total                                                                      \n",
      "--------------------------------------------------------------------------------------------------------------\n",
      "infected to           Propagator   infected              contagious            cont_frac                 0.900\n",
      "contagious                                                                     cont_delay_mean           2.000\n",
      "                                                                               cont_delay_sigma          1.000\n",
      "--------------------------------------------------------------------------------------------------------------\n",
      "recovery              Splitter     contagious            recovered             recover_frac              0.990\n",
      "                                                         deaths                recover_delay_mean       14.000\n",
      "                                                                               recover_delay_sigm        5.000\n",
      "                                                                               a                        21.000\n",
      "                                                                               death_delay_mean          5.000\n",
      "                                                                               death_delay_sigma              \n",
      "--------------------------------------------------------------------------------------------------------------\n",
      "symptoms              Splitter     contagious            contact_traced        contact_traced_fra        0.000\n",
      "                                                         symptomatic           c                         0.900\n",
      "                                                         asymptomatic          symptomatic_frac          2.000\n",
      "                                                         recovered             contact_traced_del        1.000\n",
      "                                                                               ay_mean                   2.000\n",
      "                                                                               contact_traced_del        1.000\n",
      "                                                                               ay_sigma                 12.000\n",
      "                                                                               symptomatic_delay_        4.000\n",
      "                                                                               mean                           \n",
      "                                                                               symptomatic_delay_             \n",
      "                                                                               sigma                          \n",
      "                                                                               asymp_rec_delay_me             \n",
      "                                                                               an                             \n",
      "                                                                               asymp_rec_delay_si             \n",
      "                                                                               gma                            \n",
      "--------------------------------------------------------------------------------------------------------------\n",
      "remove asymptomatic   Subtractor   contagious            asymptomatic                                         \n",
      "recoveries                                               recovered                                            \n",
      "--------------------------------------------------------------------------------------------------------------\n",
      "testing               Splitter     symptomatic           reported              reported_frac             0.800\n",
      "                                                         unreported            reported_delay_mea        3.000\n",
      "                                                                               n                         1.000\n",
      "                                                                               reported_delay_sig       12.000\n",
      "                                                                               ma                        4.000\n",
      "                                                                               unrep_rec_delay_me             \n",
      "                                                                               an                             \n",
      "                                                                               unrep_rec_delay_si             \n",
      "                                                                               gma                            \n",
      "--------------------------------------------------------------------------------------------------------------\n",
      "report                Adder        contact_traced        reported                                             \n",
      "contact_traced                                                                                                \n",
      "--------------------------------------------------------------------------------------------------------------\n",
      "remove those          Subtractor   contagious            reported                                             \n",
      "reported                                                                                                      \n",
      "--------------------------------------------------------------------------------------------------------------\n",
      "remove unreported     Subtractor   contagious            unreported                                           \n",
      "recoveries                                                                                                    \n",
      "--------------------------------------------------------------------------------------------------------------\n",
      "symptomatic to        Propagator   symptomatic           non_icu_hospitalize   non_icu_hosp_frac         0.200\n",
      "non_icu hospital                                         d                     non_icu_hosp_delay       12.000\n",
      "                                                                               _mean                     3.000\n",
      "                                                                               non_icu_hosp_delay             \n",
      "                                                                               _sigma                         \n",
      "--------------------------------------------------------------------------------------------------------------\n",
      "non_icu hospital to   Propagator   non_icu_hospitalize   non_icu_rel           release_frac              1.000\n",
      "released                           d                                           non_icu_rel_delay_       10.000\n",
      "                                                                               mean                      3.000\n",
      "                                                                               non_icu_rel_delay_             \n",
      "                                                                               sigma                          \n",
      "--------------------------------------------------------------------------------------------------------------\n",
      "symptomatic to icu    Propagator   symptomatic           icu admissions        icu_frac                  0.100\n",
      "                                                                               to_icu_delay_mean        14.000\n",
      "                                                                               to_icu_delay_sigma        1.000\n",
      "--------------------------------------------------------------------------------------------------------------\n",
      "ventilator            Splitter     icu admissions        ventilated            icu_frac                  0.100\n",
      "                                                         non_ventilated_rel    to_icu_delay_mean        14.000\n",
      "                                                                               to_icu_delay_sigma        1.000\n",
      "                                                                               non_vent_icu_delay       14.000\n",
      "                                                                               _mean                     5.000\n",
      "                                                                               non_vent_icu_delay             \n",
      "                                                                               _sigma                         \n",
      "--------------------------------------------------------------------------------------------------------------\n",
      "ventilator to         Propagator   ventilated            ventilated_rel        vent_frac                 1.000\n",
      "released                                                                       in_vent_delay_mean       10.000\n",
      "                                                                               in_vent_delay_sigm        5.000\n",
      "                                                                               a                              \n",
      "--------------------------------------------------------------------------------------------------------------\n",
      "include non_icu in    Adder        non_icu_hospitalize   hospitalized                                         \n",
      "hospitalized                       d                                                                          \n",
      "--------------------------------------------------------------------------------------------------------------\n",
      "include icu in        Adder        icu admissions        hospitalized                                         \n",
      "hospitalized                                                                                                  \n",
      "--------------------------------------------------------------------------------------------------------------\n",
      "copy                  Adder        hospitalized          in_hospital                                          \n",
      "hospitalizations                                                                                              \n",
      "--------------------------------------------------------------------------------------------------------------\n",
      "copy icu admissions   Adder        icu admissions        in_icu                                               \n",
      "--------------------------------------------------------------------------------------------------------------\n",
      "copy ventilator       Adder        ventilated            on_ventilator                                        \n",
      "admissions                                                                                                    \n",
      "--------------------------------------------------------------------------------------------------------------\n",
      "remove non-ICU        Subtractor   in_hospital           non_icu_rel                                          \n",
      "released                                                                                                      \n",
      "--------------------------------------------------------------------------------------------------------------\n",
      "remove non-vent       Subtractor   in_icu                non_ventilated_rel                                   \n",
      "released from icu                                                                                             \n",
      "--------------------------------------------------------------------------------------------------------------\n",
      "remove non-vent       Subtractor   in_hospital           non_ventilated_rel                                   \n",
      "released from                                                                                                 \n",
      "hospital                                                                                                      \n",
      "--------------------------------------------------------------------------------------------------------------\n",
      "remove vent           Subtractor   on_ventilator         ventilated_rel                                       \n",
      "released from                                                                                                 \n",
      "on_ventilator                                                                                                 \n",
      "--------------------------------------------------------------------------------------------------------------\n",
      "remove vent           Subtractor   in_icu                ventilated_rel                                       \n",
      "released from icu                                                                                             \n",
      "--------------------------------------------------------------------------------------------------------------\n",
      "remove vent           Subtractor   in_hospital           ventilated_rel                                       \n",
      "released from                                                                                                 \n",
      "hospital                                                                                                      \n",
      "--------------------------------------------------------------------------------------------------------------\n",
      "subtract deaths       Subtractor   total                 deaths                                               \n",
      "from total                                                                                                    \n",
      "--------------------------------------------------------------------------------------------------------------\n",
      "subtract infected     Subtractor   susceptible           infected                                             \n",
      "from susceptible                                                                                              \n",
      "--------------------------------------------------------------------------------------------------------------\n",
      "outbreaks to          Propagator   outbreaks             infected              outbreak_frac             1.000\n",
      "infected                                                                       outbreak_delay_mea        7.000\n",
      "                                                                               n                         1.000\n",
      "                                                                               outbreak_delay_sig             \n",
      "                                                                               ma                             \n"
     ]
    }
   ],
   "source": [
    "print(table.connector_table(ref_model_2, width))"
   ]
  },
  {
   "cell_type": "code",
   "execution_count": null,
   "metadata": {},
   "outputs": [],
   "source": [
    "print(table.population_table(ref_model_2, width))"
   ]
  },
  {
   "cell_type": "code",
   "execution_count": null,
   "metadata": {},
   "outputs": [],
   "source": [
    "print(table.parameter_table(ref_model_2, width))"
   ]
  },
  {
   "cell_type": "code",
   "execution_count": 3,
   "metadata": {},
   "outputs": [
    {
     "name": "stdout",
     "output_type": "stream",
     "text": [
      "Modifier         Time parameter       Time   spec       Parameter           before parameter   after parameter\n",
      "==============================================================================================================\n",
      "trans_rate_1     trans_rate_1_time    16     rel_days   alpha               alpha_0            alpha_1        \n",
      "--------------------------------------------------------------------------------------------------------------\n",
      "trans_rate_2     trans_rate_2_time    50     rel_days   alpha               alpha_1            alpha_2        \n",
      "--------------------------------------------------------------------------------------------------------------\n",
      "trans_rate_3     trans_rate_3_time    70     rel_days   alpha               alpha_2            alpha_3        \n",
      "--------------------------------------------------------------------------------------------------------------\n",
      "trans_traced_1   trans_trace_1_time   100    rel_days   contact_traced_fr   trans_traced_0     trans_traced_1 \n",
      "                                                        ac                                                    \n"
     ]
    }
   ],
   "source": [
    "print(table.modifier_table(ref_model_2, width))"
   ]
  },
  {
   "cell_type": "code",
   "execution_count": 4,
   "metadata": {},
   "outputs": [
    {
     "name": "stdout",
     "output_type": "stream",
     "text": [
      "Injector   Time parameter   Time   spec   to (Population)   Injection parameter   value\n",
      "=======================================================================================\n"
     ]
    }
   ],
   "source": [
    "print(table.injector_table(ref_model_2, width))"
   ]
  },
  {
   "cell_type": "code",
   "execution_count": 5,
   "metadata": {},
   "outputs": [
    {
     "name": "stdout",
     "output_type": "stream",
     "text": [
      "Connector       Con Type     Delay name      Delay Type   mean par        mean val   width par       width val\n",
      "==============================================================================================================\n",
      "infection       Multiplier   fast            fast                                                             \n",
      "cycle                                                                                                         \n",
      "--------------------------------------------------------------------------------------------------------------\n",
      "infected to     Propagator   cont_delay      norm         cont_delay_me   2          cont_delay_si   1        \n",
      "contagious                                                an                         gma                      \n",
      "--------------------------------------------------------------------------------------------------------------\n",
      "recovery        Splitter     recover_delay   norm         recover_delay   14         recover_delay   5        \n",
      "                                                          _mean                      _sigma                   \n",
      "--------------------------------------------------------------------------------------------------------------\n",
      "recovery        Splitter     death_delay     norm         death_delay_m   21         death_delay_s   5        \n",
      "                                                          ean                        igma                     \n",
      "--------------------------------------------------------------------------------------------------------------\n",
      "symptoms        Splitter     contact_trace   norm         contact_trace   2          contact_trace   1        \n",
      "                             d_delay                      d_delay_mean               d_delay_sigma            \n",
      "--------------------------------------------------------------------------------------------------------------\n",
      "symptoms        Splitter     symptomatic_d   norm         symptomatic_d   2          symptomatic_d   1        \n",
      "                             elay                         elay_mean                  elay_sigma               \n",
      "--------------------------------------------------------------------------------------------------------------\n",
      "symptoms        Splitter     asymp_rec_del   norm         asymp_rec_del   12         asymp_rec_del   4        \n",
      "                             ay                           ay_mean                    ay_sigma                 \n",
      "--------------------------------------------------------------------------------------------------------------\n",
      "testing         Splitter     reported_dela   norm         reported_dela   3          reported_dela   1        \n",
      "                             y                            y_mean                     y_sigma                  \n",
      "--------------------------------------------------------------------------------------------------------------\n",
      "testing         Splitter     unreported_de   norm         unrep_rec_del   12         unrep_rec_del   4        \n",
      "                             lay                          ay_mean                    ay_sigma                 \n",
      "--------------------------------------------------------------------------------------------------------------\n",
      "symptomatic     Propagator   non_icu_hosp_   norm         non_icu_hosp_   12         non_icu_hosp_   3        \n",
      "to non_icu                   delay                        delay_mean                 delay_sigma              \n",
      "hospital                                                                                                      \n",
      "--------------------------------------------------------------------------------------------------------------\n",
      "non_icu         Propagator   non_icu_rel_d   norm         non_icu_rel_d   10         non_icu_rel_d   3        \n",
      "hospital to                  elay                         elay_mean                  elay_sigma               \n",
      "released                                                                                                      \n",
      "--------------------------------------------------------------------------------------------------------------\n",
      "symptomatic     Propagator   to_icu_delay    norm         to_icu_delay_   14         to_icu_delay_   1        \n",
      "to icu                                                    mean                       sigma                    \n",
      "--------------------------------------------------------------------------------------------------------------\n",
      "ventilator      Splitter     to_icu_delay    norm         to_icu_delay_   14         to_icu_delay_   1        \n",
      "                                                          mean                       sigma                    \n",
      "--------------------------------------------------------------------------------------------------------------\n",
      "ventilator      Splitter     in_icu_delay    norm         non_vent_icu_   14         non_vent_icu_   5        \n",
      "                                                          delay_mean                 delay_sigma              \n",
      "--------------------------------------------------------------------------------------------------------------\n",
      "ventilator to   Propagator   in_vent_delay   norm         in_vent_delay   10         in_vent_delay   5        \n",
      "released                                                  _mean                      _sigma                   \n",
      "--------------------------------------------------------------------------------------------------------------\n",
      "outbreaks to    Propagator   outbreak_dela   norm         outbreak_dela   7          outbreak_dela   1        \n",
      "infected                     y                            y_mean                     y_sigma                  \n"
     ]
    }
   ],
   "source": [
    "print(table.delay_table(ref_model_2, width))"
   ]
  },
  {
   "cell_type": "code",
   "execution_count": 7,
   "outputs": [
    {
     "name": "stdout",
     "output_type": "stream",
     "text": [
      "Parameter   Description   min   max   prior   prior_mean   prior_w   mcmc_step   Init   Value\n",
      "=============================================================================================\n"
     ]
    }
   ],
   "source": [
    "print(table.variable_parameter_table(ref_model_2, width))"
   ],
   "metadata": {
    "collapsed": false,
    "pycharm": {
     "name": "#%%\n"
    }
   }
  },
  {
   "cell_type": "code",
   "execution_count": null,
   "outputs": [],
   "source": [
    "\n"
   ],
   "metadata": {
    "collapsed": false,
    "pycharm": {
     "name": "#%%\n"
    }
   }
  }
 ],
 "metadata": {
  "kernelspec": {
   "name": "python3",
   "language": "python",
   "display_name": "Python 3"
  },
  "language_info": {
   "codemirror_mode": {
    "name": "ipython",
    "version": 3
   },
   "file_extension": ".py",
   "mimetype": "text/x-python",
   "name": "python",
   "nbconvert_exporter": "python",
   "pygments_lexer": "ipython3",
   "version": "3.6.10"
  }
 },
 "nbformat": 4,
 "nbformat_minor": 4
}