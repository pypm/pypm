{
 "cells": [
  {
   "cell_type": "markdown",
   "metadata": {},
   "source": [
    "# Examining a pyPM model with tables\n",
    "\n",
    "In src/tools, methods are provided to show the model definition in tables:\n",
    "\n",
    "* connectors, shown in order of their execution for each cycle: print(tt.connector_table(model, width=120)\n",
    "* populations: print(tt.population_table(model, width=120)\n",
    "* parameters: print(tt.parameter_table(model, width=120)\n",
    "* modifiers: print(tt.modifier_table(model, width=120)\n",
    "* injectors: print(tt.injectors_table(model, width=120)"
   ]
  },
  {
   "cell_type": "code",
   "execution_count": 1,
   "metadata": {},
   "outputs": [],
   "source": [
    "import sys\n",
    "sys.path.insert(1, '/Users/karlen/pypm/src')\n",
    "\n",
    "from Model import Model\n",
    "import tools.table as tt"
   ]
  },
  {
   "cell_type": "code",
   "execution_count": 2,
   "metadata": {},
   "outputs": [],
   "source": [
    "my_model = Model.open_file('/Users/karlen/pypm/src/test/model.pypm')\n",
    "width = 100"
   ]
  },
  {
   "cell_type": "code",
   "execution_count": 3,
   "metadata": {},
   "outputs": [
    {
     "name": "stdout",
     "output_type": "stream",
     "text": [
      "Connector          Type           From              To                 Parameters             Values\n",
      "                                  (populations)     (populations)                                   \n",
      "====================================================================================================\n",
      "infection cycle    Multiplier     susceptible       infected           alpha                   0.385\n",
      "                                  contagious                                                        \n",
      "                                  total                                                             \n",
      "----------------------------------------------------------------------------------------------------\n",
      "infected to        Propagator     infected          contagious         cont_frac               0.900\n",
      "contagious                                                             cont_delay_mean         3.000\n",
      "                                                                       cont_delay_sigma        1.000\n",
      "----------------------------------------------------------------------------------------------------\n",
      "recovery           Splitter       infected          recovered          recover_frac            0.990\n",
      "                                                    deaths             recover_delay_me       14.000\n",
      "                                                                       an                      5.000\n",
      "                                                                       recover_delay_si       14.000\n",
      "                                                                       gma                     5.000\n",
      "                                                                       death_delay_mean             \n",
      "                                                                       death_delay_sigm             \n",
      "                                                                       a                            \n",
      "----------------------------------------------------------------------------------------------------\n",
      "reporting chain    Chain          contagious        non_quarantined    chain_fraction          1.000\n",
      "----------------------------------------------------------------------------------------------------\n",
      "reporting chain:   ->Propagator   contagious        symptomatic        symptomatic_frac        0.900\n",
      "contagious to                                                          symptomatic_dela        3.000\n",
      "symptomatic                                                            y_mean                  1.000\n",
      "                                                                       symptomatic_dela             \n",
      "                                                                       y_sigma                      \n",
      "----------------------------------------------------------------------------------------------------\n",
      "reporting chain:   ->Propagator   symptomatic       tested             tested_frac             0.800\n",
      "symptomatic to                                                         tested_delay_mea        3.000\n",
      "tested                                                                 n                       1.000\n",
      "                                                                       tested_delay_sig             \n",
      "                                                                       ma                           \n",
      "----------------------------------------------------------------------------------------------------\n",
      "reporting chain:   ->Propagator   tested            reported           reported_frac           0.950\n",
      "tested to                                                              reported_delay_m        5.000\n",
      "reported                                                               ean                     2.000\n",
      "                                                                       reported_delay_s             \n",
      "                                                                       igma                         \n",
      "----------------------------------------------------------------------------------------------------\n",
      "non-quarantined    Propagator     non_quarantined   rec_non_quaranti   recover_frac            1.000\n",
      "to recovered                                        ned                recover_delay_me       14.000\n",
      "                                                                       an                      5.000\n",
      "                                                                       recover_delay_si             \n",
      "                                                                       gma                          \n",
      "----------------------------------------------------------------------------------------------------\n",
      "reported to        Propagator     reported          hospitalized       hosp_frac               0.200\n",
      "hospitalized                                                           hosp_delay_mean         3.000\n",
      "                                                                       hosp_delay_sigma        2.000\n",
      "----------------------------------------------------------------------------------------------------\n",
      "copy               Adder          hospitalized      in_hospital                                     \n",
      "hospitalizations                                                                                    \n",
      "----------------------------------------------------------------------------------------------------\n",
      "hospitalized to    Propagator     hospitalized      released           released_frac           1.000\n",
      "released                                                               released_delay_m       14.000\n",
      "                                                                       ean                     5.000\n",
      "                                                                       released_delay_s             \n",
      "                                                                       igma                         \n",
      "----------------------------------------------------------------------------------------------------\n",
      "remove released    Subtractor     in_hospital       released                                        \n",
      "patients                                                                                            \n",
      "----------------------------------------------------------------------------------------------------\n",
      "subtract deaths    Subtractor     total             deaths                                          \n",
      "from total                                                                                          \n",
      "----------------------------------------------------------------------------------------------------\n",
      "remove those who   Subtractor     contagious        reported                                        \n",
      "get a positive                                                                                      \n",
      "report from the                                                                                     \n",
      "contagious                                                                                          \n",
      "population                                                                                          \n",
      "(isolation)                                                                                         \n",
      "----------------------------------------------------------------------------------------------------\n",
      "removed natural    Subtractor     contagious        rec_non_quaranti                                \n",
      "recoveries                                          ned                                             \n",
      "----------------------------------------------------------------------------------------------------\n",
      "subtract           Subtractor     susceptible       infected                                        \n",
      "infected from                                                                                       \n",
      "susceptible                                                                                         \n",
      "----------------------------------------------------------------------------------------------------\n",
      "travellers to      Propagator     travellers        infected           traveller_frac          1.000\n",
      "infected                                                               traveller_delay_       14.000\n",
      "                                                                       mean                    7.000\n",
      "                                                                       traveller_delay_             \n",
      "                                                                       sigma                        \n"
     ]
    }
   ],
   "source": [
    "print(tt.connector_table(my_model, width))"
   ]
  },
  {
   "cell_type": "code",
   "execution_count": 4,
   "metadata": {},
   "outputs": [
    {
     "name": "stdout",
     "output_type": "stream",
     "text": [
      "Population            Description                                            Parameter   Start value\n",
      "====================================================================================================\n",
      "susceptible           number of people who could become infected                         5000000    \n",
      "----------------------------------------------------------------------------------------------------\n",
      "contagious            number of people that can cause someone to become      cont_0      55         \n",
      "                      infected                                                                      \n",
      "----------------------------------------------------------------------------------------------------\n",
      "total                 total population of the region                                     5000000    \n",
      "----------------------------------------------------------------------------------------------------\n",
      "infected              total number of people ever infected                               0          \n",
      "----------------------------------------------------------------------------------------------------\n",
      "recovered             People who have recovered from the illness and are                 0          \n",
      "                      therefore no longer susceptible                                               \n",
      "----------------------------------------------------------------------------------------------------\n",
      "deaths                people who have died from the illness                              0          \n",
      "----------------------------------------------------------------------------------------------------\n",
      "non_quarantined       contagious but not identified                                      0          \n",
      "----------------------------------------------------------------------------------------------------\n",
      "symptomatic           People who have shown symptoms                                     0          \n",
      "----------------------------------------------------------------------------------------------------\n",
      "tested                People who have been tested                                        0          \n",
      "----------------------------------------------------------------------------------------------------\n",
      "reported              Infected people who received a positive test report                0          \n",
      "----------------------------------------------------------------------------------------------------\n",
      "rec_non_quarantined   natural recovery, never isolated                                   0          \n",
      "----------------------------------------------------------------------------------------------------\n",
      "hospitalized          Total hospitalization cases                                        0          \n",
      "----------------------------------------------------------------------------------------------------\n",
      "in_hospital           People currently in hospital                                       0          \n",
      "----------------------------------------------------------------------------------------------------\n",
      "released              People released from hospital                                      0          \n",
      "----------------------------------------------------------------------------------------------------\n",
      "travellers            Infected travellers returning home                                 0          \n"
     ]
    }
   ],
   "source": [
    "print(tt.population_table(my_model, width))"
   ]
  },
  {
   "cell_type": "code",
   "execution_count": 5,
   "metadata": {},
   "outputs": [
    {
     "name": "stdout",
     "output_type": "stream",
     "text": [
      "Parameter                 Description                                  min     max     Init    Value\n",
      "====================================================================================================\n",
      "alpha                     mean number of people that a contagious      0       2       0.385   0.385\n",
      "                          person infects per day                                                    \n",
      "----------------------------------------------------------------------------------------------------\n",
      "alpha_after               transmission rate after lockdown             0       2       0.062   0.062\n",
      "----------------------------------------------------------------------------------------------------\n",
      "chain_fraction            fraction of remainder to non_quarantined     0       1       1       1    \n",
      "----------------------------------------------------------------------------------------------------\n",
      "cont_0                    Number of contagious people at t0            0       5000    55      55   \n",
      "----------------------------------------------------------------------------------------------------\n",
      "cont_delay_mean           mean time from being infected to becoming    0       50      3       3    \n",
      "                          contagious                                                                \n",
      "----------------------------------------------------------------------------------------------------\n",
      "cont_delay_sigma          standard deviation of times from being       0.010   20      1       1    \n",
      "                          infected to becoming contagious                                           \n",
      "----------------------------------------------------------------------------------------------------\n",
      "cont_frac                 fraction of infected people that become      0       1       0.900   0.900\n",
      "                          contagious                                                                \n",
      "----------------------------------------------------------------------------------------------------\n",
      "death_delay_mean          mean time from infection to death            0       50      14      14   \n",
      "----------------------------------------------------------------------------------------------------\n",
      "death_delay_sigma         standard deviation of times from infection   0.010   20      5       5    \n",
      "                          to death                                                                  \n",
      "----------------------------------------------------------------------------------------------------\n",
      "hosp_delay_mean           mean time from positive report to            0       50      3       3    \n",
      "                          hospitalization                                                           \n",
      "----------------------------------------------------------------------------------------------------\n",
      "hosp_delay_sigma          standard deviation of times from positive    0.010   20      2       2    \n",
      "                          report to hospitalization                                                 \n",
      "----------------------------------------------------------------------------------------------------\n",
      "hosp_frac                 fraction of those with postive tests who     0       1       0.200   0.200\n",
      "                          will be admitted to hospital                                              \n",
      "----------------------------------------------------------------------------------------------------\n",
      "recover_delay_mean        mean time from infection to recovery         0       50      14      14   \n",
      "----------------------------------------------------------------------------------------------------\n",
      "recover_delay_sigma       standard deviation of times from infection   0.010   20      5       5    \n",
      "                          to recovery                                                               \n",
      "----------------------------------------------------------------------------------------------------\n",
      "recover_frac              fraction of asymptomatic contagious people   0       1       1       1    \n",
      "                          who recover                                                               \n",
      "----------------------------------------------------------------------------------------------------\n",
      "released_delay_mean       mean time from hospital admission to         0       50      14      14   \n",
      "                          release                                                                   \n",
      "----------------------------------------------------------------------------------------------------\n",
      "released_delay_sigma      standard deviation of times from hospital    0.010   20      5       5    \n",
      "                          admission to release                                                      \n",
      "----------------------------------------------------------------------------------------------------\n",
      "released_frac             fraction of those eventually released from   0       1       1       1    \n",
      "                          hospital                                                                  \n",
      "----------------------------------------------------------------------------------------------------\n",
      "reported_delay_mean       mean time from having test to getting        0       50      5       5    \n",
      "                          report                                                                    \n",
      "----------------------------------------------------------------------------------------------------\n",
      "reported_delay_sigma      standard deviation of times from having      0.010   20      2       2    \n",
      "                          test to getting report                                                    \n",
      "----------------------------------------------------------------------------------------------------\n",
      "reported_frac             fraction of tested infected people who       0       1       0.950   0.950\n",
      "                          will receive a positive report                                            \n",
      "----------------------------------------------------------------------------------------------------\n",
      "symptomatic_delay_mean    mean time from becoming contagious to        0       50      3       3    \n",
      "                          having symptoms                                                           \n",
      "----------------------------------------------------------------------------------------------------\n",
      "symptomatic_delay_sigma   std dev of times from from becoming          0.010   20      1       1    \n",
      "                          contagious to having symptoms                                             \n",
      "----------------------------------------------------------------------------------------------------\n",
      "symptomatic_frac          fraction of contagious people who become     0       1       0.900   0.900\n",
      "                          symptomatic                                                               \n",
      "----------------------------------------------------------------------------------------------------\n",
      "tested_delay_mean         mean time from having symptoms to getting    0       50      3       3    \n",
      "                          tested                                                                    \n",
      "----------------------------------------------------------------------------------------------------\n",
      "tested_delay_sigma        standard deviation of times from from        0.010   20      1       1    \n",
      "                          having symptoms to getting tested                                         \n",
      "----------------------------------------------------------------------------------------------------\n",
      "tested_frac               fraction of symptomatic people who become    0       1       0.800   0.800\n",
      "                          tested                                                                    \n",
      "----------------------------------------------------------------------------------------------------\n",
      "trans_rate_time           number of days before transmission rate      0       300     12      12   \n",
      "                          changes                                                                   \n",
      "----------------------------------------------------------------------------------------------------\n",
      "traveller_delay_mean      mean time for all travellers to enter        0       50      14      14   \n",
      "----------------------------------------------------------------------------------------------------\n",
      "traveller_delay_sigma     standard deviation of times of travellers    0.010   20      7       7    \n",
      "                          entering                                                                  \n",
      "----------------------------------------------------------------------------------------------------\n",
      "traveller_frac            fraction of infected travellers that enter   0       1       1       1    \n",
      "----------------------------------------------------------------------------------------------------\n",
      "traveller_number          number of infected travellers returning      0       50000   50      50   \n",
      "----------------------------------------------------------------------------------------------------\n",
      "traveller_time            number of days before travellers start to    0       50      20      20   \n",
      "                          return                                                                    \n"
     ]
    }
   ],
   "source": [
    "print(tt.parameter_table(my_model, width))"
   ]
  },
  {
   "cell_type": "code",
   "execution_count": 6,
   "metadata": {},
   "outputs": [
    {
     "name": "stdout",
     "output_type": "stream",
     "text": [
      "Modifier       Time           Time   spec       Parameter   before value   after         after value\n",
      "               parameter                                                   parameter                \n",
      "====================================================================================================\n",
      "transition_r   trans_rate_t   12     rel_days   alpha       0.385          alpha_after   0.062      \n",
      "ate            ime                                                                                  \n"
     ]
    }
   ],
   "source": [
    "print(tt.modifier_table(my_model, width))"
   ]
  },
  {
   "cell_type": "code",
   "execution_count": 7,
   "metadata": {},
   "outputs": [
    {
     "name": "stdout",
     "output_type": "stream",
     "text": [
      "Injector             Time parameter   Time   spec       to (Population)   Injection            value\n",
      "                                                                          parameter                 \n",
      "====================================================================================================\n",
      "infected_traveller   traveller_time   20     rel_days   travellers        traveller_number     50   \n",
      "s                                                                                                   \n"
     ]
    }
   ],
   "source": [
    "print(tt.injector_table(my_model, width))"
   ]
  },
  {
   "cell_type": "code",
   "execution_count": null,
   "metadata": {},
   "outputs": [],
   "source": []
  }
 ],
 "metadata": {
  "kernelspec": {
   "display_name": "Python 3",
   "language": "python",
   "name": "python3"
  },
  "language_info": {
   "codemirror_mode": {
    "name": "ipython",
    "version": 3
   },
   "file_extension": ".py",
   "mimetype": "text/x-python",
   "name": "python",
   "nbconvert_exporter": "python",
   "pygments_lexer": "ipython3",
   "version": "3.6.10"
  }
 },
 "nbformat": 4,
 "nbformat_minor": 4
}
