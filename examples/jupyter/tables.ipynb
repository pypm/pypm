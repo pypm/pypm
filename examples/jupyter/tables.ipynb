{
 "cells": [
  {
   "cell_type": "markdown",
   "metadata": {},
   "source": [
    "# Examining a pyPM model with tables\n",
    "\n",
    "In src/tools, methods are provided to show the model definition in tables:\n",
    "\n",
    "* connectors, shown in order of their execution for each cycle: print(tt.connector_table(model, width=120)\n",
    "* populations: print(tt.population_table(model, width=120)\n",
    "* parameters: print(tt.parameter_table(model, width=120)\n",
    "* modifiers: print(tt.modifier_table(model, width=120)\n",
    "* injectors: print(tt.injectors_table(model, width=120)"
   ]
  },
  {
   "cell_type": "code",
   "execution_count": 1,
   "metadata": {},
   "outputs": [],
   "source": [
    "import sys\n",
    "sys.path.insert(1, '/Users/karlen/pypm/src')\n",
    "\n",
    "from Model import Model\n",
    "import tools.table as tt"
   ]
  },
  {
   "cell_type": "code",
   "execution_count": 2,
   "metadata": {},
   "outputs": [],
   "source": [
    "my_model = Model.open_file('/Users/karlen/pypm/src/test/model.pypm')"
   ]
  },
  {
   "cell_type": "code",
   "execution_count": 3,
   "metadata": {},
   "outputs": [
    {
     "name": "stdout",
     "output_type": "stream",
     "text": [
      "Connector                    Type           From              To                    Parameters                    Values\n",
      "                                            (populations)     (populations)                                             \n",
      "========================================================================================================================\n",
      "infection cycle              Multiplier     susceptible       infected              alpha                          0.385\n",
      "                                            contagious                                                                  \n",
      "                                            total                                                                       \n",
      "------------------------------------------------------------------------------------------------------------------------\n",
      "infected to contagious       Propagator     infected          contagious            cont_frac                      0.900\n",
      "                                                                                    cont_delay_mean                3.000\n",
      "                                                                                    cont_delay_sigma               1.000\n",
      "------------------------------------------------------------------------------------------------------------------------\n",
      "recovery                     Splitter       infected          recovered             recover_frac                   0.990\n",
      "                                                              deaths                recover_delay_mean            14.000\n",
      "                                                                                    recover_delay_sigma            5.000\n",
      "                                                                                    death_delay_mean              14.000\n",
      "                                                                                    death_delay_sigma              5.000\n",
      "------------------------------------------------------------------------------------------------------------------------\n",
      "reporting chain              Chain          contagious        non_quarantined       chain_fraction                 1.000\n",
      "------------------------------------------------------------------------------------------------------------------------\n",
      "reporting chain:             ->Propagator   contagious        symptomatic           symptomatic_frac               0.900\n",
      "contagious to symptomatic                                                           symptomatic_delay_mean         3.000\n",
      "                                                                                    symptomatic_delay_sigma        1.000\n",
      "------------------------------------------------------------------------------------------------------------------------\n",
      "reporting chain:             ->Propagator   symptomatic       tested                tested_frac                    0.800\n",
      "symptomatic to tested                                                               tested_delay_mean              3.000\n",
      "                                                                                    tested_delay_sigma             1.000\n",
      "------------------------------------------------------------------------------------------------------------------------\n",
      "reporting chain: tested to   ->Propagator   tested            reported              reported_frac                  0.950\n",
      "reported                                                                            reported_delay_mean            5.000\n",
      "                                                                                    reported_delay_sigma           2.000\n",
      "------------------------------------------------------------------------------------------------------------------------\n",
      "non-quarantined to           Propagator     non_quarantined   rec_non_quarantined   recover_frac                   1.000\n",
      "recovered                                                                           recover_delay_mean            14.000\n",
      "                                                                                    recover_delay_sigma            5.000\n",
      "------------------------------------------------------------------------------------------------------------------------\n",
      "reported to hospitalized     Propagator     reported          hospitalized          hosp_frac                      0.200\n",
      "                                                                                    hosp_delay_mean                3.000\n",
      "                                                                                    hosp_delay_sigma               2.000\n",
      "------------------------------------------------------------------------------------------------------------------------\n",
      "copy hospitalizations        Adder          hospitalized      in_hospital                                               \n",
      "------------------------------------------------------------------------------------------------------------------------\n",
      "hospitalized to released     Propagator     hospitalized      released              released_frac                  1.000\n",
      "                                                                                    released_delay_mean           14.000\n",
      "                                                                                    released_delay_sigma           5.000\n",
      "------------------------------------------------------------------------------------------------------------------------\n",
      "remove released patients     Subtractor     in_hospital       released                                                  \n",
      "------------------------------------------------------------------------------------------------------------------------\n",
      "subtract deaths from total   Subtractor     total             deaths                                                    \n",
      "------------------------------------------------------------------------------------------------------------------------\n",
      "remove those who get a       Subtractor     contagious        reported                                                  \n",
      "positive report from the                                                                                                \n",
      "contagious population                                                                                                   \n",
      "(isolation)                                                                                                             \n",
      "------------------------------------------------------------------------------------------------------------------------\n",
      "removed natural recoveries   Subtractor     contagious        rec_non_quarantined                                       \n",
      "------------------------------------------------------------------------------------------------------------------------\n",
      "subtract infected from       Subtractor     susceptible       infected                                                  \n",
      "susceptible                                                                                                             \n",
      "------------------------------------------------------------------------------------------------------------------------\n",
      "travellers to infected       Propagator     travellers        infected              traveller_frac                 1.000\n",
      "                                                                                    traveller_delay_mean          14.000\n",
      "                                                                                    traveller_delay_sigma          7.000\n"
     ]
    }
   ],
   "source": [
    "print(tt.connector_table(my_model))"
   ]
  },
  {
   "cell_type": "code",
   "execution_count": 4,
   "metadata": {},
   "outputs": [
    {
     "name": "stdout",
     "output_type": "stream",
     "text": [
      "Population            Description                                                                Parameter   Start value\n",
      "========================================================================================================================\n",
      "susceptible           number of people who could become infected                                             5000000    \n",
      "------------------------------------------------------------------------------------------------------------------------\n",
      "contagious            number of people that can cause someone to become infected                 cont_0      55         \n",
      "------------------------------------------------------------------------------------------------------------------------\n",
      "total                 total population of the province                                                       5000000    \n",
      "------------------------------------------------------------------------------------------------------------------------\n",
      "infected              total number of people ever infected                                                   0          \n",
      "------------------------------------------------------------------------------------------------------------------------\n",
      "recovered             People who have recovered from the illness and are therefore no longer                 0          \n",
      "                      susceptible                                                                                       \n",
      "------------------------------------------------------------------------------------------------------------------------\n",
      "deaths                people who have died from the illness                                                  0          \n",
      "------------------------------------------------------------------------------------------------------------------------\n",
      "non_quarantined       contagious but not identified                                                          0          \n",
      "------------------------------------------------------------------------------------------------------------------------\n",
      "symptomatic           People who have shown symptoms                                                         0          \n",
      "------------------------------------------------------------------------------------------------------------------------\n",
      "tested                People who have been tested                                                            0          \n",
      "------------------------------------------------------------------------------------------------------------------------\n",
      "reported              Infected people who received a positive test report                                    0          \n",
      "------------------------------------------------------------------------------------------------------------------------\n",
      "rec_non_quarantined   natural recovery, never isolated                                                       0          \n",
      "------------------------------------------------------------------------------------------------------------------------\n",
      "hospitalized          Total hospitalization cases                                                            0          \n",
      "------------------------------------------------------------------------------------------------------------------------\n",
      "in_hospital           People currently in hospital                                                           0          \n",
      "------------------------------------------------------------------------------------------------------------------------\n",
      "released              People released from hospital                                                          0          \n",
      "------------------------------------------------------------------------------------------------------------------------\n",
      "travellers            Infected travellers returning home                                                     0          \n"
     ]
    }
   ],
   "source": [
    "print(tt.population_table(my_model))"
   ]
  },
  {
   "cell_type": "code",
   "execution_count": 5,
   "metadata": {},
   "outputs": [
    {
     "name": "stdout",
     "output_type": "stream",
     "text": [
      "Parameter                 Description                                                     status   type    Init    Value\n",
      "========================================================================================================================\n",
      "alpha                     mean number of people that a contagious person infects per      fixed    float   0.385   0.385\n",
      "                          day                                                                                           \n",
      "------------------------------------------------------------------------------------------------------------------------\n",
      "alpha_after               transmission rate after lockdown                                fixed    float   0.062   0.062\n",
      "------------------------------------------------------------------------------------------------------------------------\n",
      "chain_fraction            fraction of remainder to non_quarantined                        fixed    float   1       1    \n",
      "------------------------------------------------------------------------------------------------------------------------\n",
      "cont_0                    Number of contagious people at t0                               fixed    float   55      55   \n",
      "------------------------------------------------------------------------------------------------------------------------\n",
      "cont_delay_mean           mean time from being infected to becoming contagious            fixed    float   3       3    \n",
      "------------------------------------------------------------------------------------------------------------------------\n",
      "cont_delay_sigma          standard deviation of times from being infected to becoming     fixed    float   1       1    \n",
      "                          contagious                                                                                    \n",
      "------------------------------------------------------------------------------------------------------------------------\n",
      "cont_frac                 fraction of infected people that become contagious              fixed    float   0.900   0.900\n",
      "------------------------------------------------------------------------------------------------------------------------\n",
      "death_delay_mean          mean time from infection to death                               fixed    float   14      14   \n",
      "------------------------------------------------------------------------------------------------------------------------\n",
      "death_delay_sigma         standard deviation of times from infection to death             fixed    float   5       5    \n",
      "------------------------------------------------------------------------------------------------------------------------\n",
      "hosp_delay_mean           mean time from positive report to hospitalization               fixed    float   3       3    \n",
      "------------------------------------------------------------------------------------------------------------------------\n",
      "hosp_delay_sigma          standard deviation of times from positive report to             fixed    float   2       2    \n",
      "                          hospitalization                                                                               \n",
      "------------------------------------------------------------------------------------------------------------------------\n",
      "hosp_frac                 fraction of those with postive tests who will be admitted to    fixed    float   0.200   0.200\n",
      "                          hospital                                                                                      \n",
      "------------------------------------------------------------------------------------------------------------------------\n",
      "recover_delay_mean        mean time from infection to recovery                            fixed    float   14      14   \n",
      "------------------------------------------------------------------------------------------------------------------------\n",
      "recover_delay_sigma       standard deviation of times from infection to recovery          fixed    float   5       5    \n",
      "------------------------------------------------------------------------------------------------------------------------\n",
      "recover_frac              fraction of asymptomatic contagious people who recover          fixed    float   1       1    \n",
      "------------------------------------------------------------------------------------------------------------------------\n",
      "released_delay_mean       mean time from hospital admission to release                    fixed    float   14      14   \n",
      "------------------------------------------------------------------------------------------------------------------------\n",
      "released_delay_sigma      standard deviation of times from hospital admission to          fixed    float   5       5    \n",
      "                          release                                                                                       \n",
      "------------------------------------------------------------------------------------------------------------------------\n",
      "released_frac             fraction of those eventually released from hospital             fixed    float   1       1    \n",
      "------------------------------------------------------------------------------------------------------------------------\n",
      "reported_delay_mean       mean time from having test to getting report                    fixed    float   5       5    \n",
      "------------------------------------------------------------------------------------------------------------------------\n",
      "reported_delay_sigma      standard deviation of times from having test to getting         fixed    float   2       2    \n",
      "                          report                                                                                        \n",
      "------------------------------------------------------------------------------------------------------------------------\n",
      "reported_frac             fraction of tested infected people who will receive a           fixed    float   0.950   0.950\n",
      "                          positive report                                                                               \n",
      "------------------------------------------------------------------------------------------------------------------------\n",
      "symptomatic_delay_mean    mean time from becoming contagious to having symptoms           fixed    float   3       3    \n",
      "------------------------------------------------------------------------------------------------------------------------\n",
      "symptomatic_delay_sigma   std dev of times from from becoming contagious to having        fixed    float   1       1    \n",
      "                          symptoms                                                                                      \n",
      "------------------------------------------------------------------------------------------------------------------------\n",
      "symptomatic_frac          fraction of contagious people who become symptomatic            fixed    float   0.900   0.900\n",
      "------------------------------------------------------------------------------------------------------------------------\n",
      "tested_delay_mean         mean time from having symptoms to getting tested                fixed    float   3       3    \n",
      "------------------------------------------------------------------------------------------------------------------------\n",
      "tested_delay_sigma        standard deviation of times from from having symptoms to        fixed    float   1       1    \n",
      "                          getting tested                                                                                \n",
      "------------------------------------------------------------------------------------------------------------------------\n",
      "tested_frac               fraction of symptomatic people who become tested                fixed    float   0.800   0.800\n",
      "------------------------------------------------------------------------------------------------------------------------\n",
      "trans_rate_time           number of days before transmission rate changes                 fixed    float   12      12   \n",
      "------------------------------------------------------------------------------------------------------------------------\n",
      "traveller_delay_mean      mean time for all travellers to enter                           fixed    float   14      14   \n",
      "------------------------------------------------------------------------------------------------------------------------\n",
      "traveller_delay_sigma     standard deviation of times of travellers entering              fixed    float   7       7    \n",
      "------------------------------------------------------------------------------------------------------------------------\n",
      "traveller_frac            fraction of infected travellers that enter                      fixed    float   1       1    \n",
      "------------------------------------------------------------------------------------------------------------------------\n",
      "traveller_number          number of infected travellers returning                         fixed    float   50      50   \n",
      "------------------------------------------------------------------------------------------------------------------------\n",
      "traveller_time            number of days before travellers start to return                fixed    float   20      20   \n"
     ]
    }
   ],
   "source": [
    "print(tt.parameter_table(my_model))"
   ]
  },
  {
   "cell_type": "code",
   "execution_count": 6,
   "metadata": {},
   "outputs": [
    {
     "name": "stdout",
     "output_type": "stream",
     "text": [
      "Modifier          Time parameter    Time   spec       Parameter   before value   after parameter   after value\n",
      "==============================================================================================================\n",
      "transition_rate   trans_rate_time   12     rel_days   alpha       0.385          alpha_after       0.062      \n"
     ]
    }
   ],
   "source": [
    "print(tt.modifier_table(my_model))"
   ]
  },
  {
   "cell_type": "code",
   "execution_count": 7,
   "metadata": {},
   "outputs": [
    {
     "name": "stdout",
     "output_type": "stream",
     "text": [
      "Injector              Time parameter   Time   spec       to (Population)   Injection parameter   value\n",
      "======================================================================================================\n",
      "infected_travellers   traveller_time   20     rel_days   travellers        traveller_number      50   \n"
     ]
    }
   ],
   "source": [
    "print(tt.injector_table(my_model))"
   ]
  },
  {
   "cell_type": "code",
   "execution_count": null,
   "metadata": {},
   "outputs": [],
   "source": []
  }
 ],
 "metadata": {
  "kernelspec": {
   "display_name": "Python 3",
   "language": "python",
   "name": "python3"
  },
  "language_info": {
   "codemirror_mode": {
    "name": "ipython",
    "version": 3
   },
   "file_extension": ".py",
   "mimetype": "text/x-python",
   "name": "python",
   "nbconvert_exporter": "python",
   "pygments_lexer": "ipython3",
   "version": "3.6.10"
  }
 },
 "nbformat": 4,
 "nbformat_minor": 4
}
