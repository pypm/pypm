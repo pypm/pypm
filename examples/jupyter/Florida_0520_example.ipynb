{
 "cells": [
  {
   "cell_type": "markdown",
   "metadata": {},
   "source": [
    "### Example case study: Florida May 20\n",
    "\n",
    "According to [CNN](https://www.cnn.com/interactive/2020/us/states-reopen-coronavirus-trnd/) Florida started reopening businesses on May 4 (16 days ago). Let's see if already there is evidence for higher transmission rate.\n",
    "\n",
    "First open the GUI to view the data and model"
   ]
  },
  {
   "cell_type": "code",
   "execution_count": 2,
   "metadata": {},
   "outputs": [],
   "source": [
    "from ipypm import ipypm"
   ]
  },
  {
   "cell_type": "code",
   "execution_count": 3,
   "metadata": {},
   "outputs": [
    {
     "data": {
      "application/vnd.jupyter.widget-view+json": {
       "model_id": "8e087837a5ce4448871f4f469ad60ff8",
       "version_major": 2,
       "version_minor": 0
      },
      "text/plain": [
       "Tab(children=(Tab(children=(HBox(children=(VBox(children=(VBox(children=(Button(description='Refresh Regions',…"
      ]
     },
     "metadata": {},
     "output_type": "display_data"
    }
   ],
   "source": [
    "my_ipypm = ipypm.ipypm()\n",
    "my_ipypm.get_display()"
   ]
  },
  {
   "cell_type": "markdown",
   "metadata": {},
   "source": [
    "The model fl_2_1_0520.pypm contains the best fits for the transmissions. The best fit time for the third transition is day 61 (around May 1).\n",
    "\n",
    "For the ref_2_1 model, to convert from transmission rate to Reproduction Number, multiply by 6.58. The scaling factor is found by adjusting alpha until steady population sizes are found (R=1).\n",
    "\n",
    "Show the values for the reproduction numbers:"
   ]
  },
  {
   "cell_type": "code",
   "execution_count": 4,
   "metadata": {},
   "outputs": [
    {
     "name": "stdout",
     "output_type": "stream",
     "text": [
      "R_0 = 3.13\n",
      "Day_1: 27\n",
      "R_1 = 1.02\n",
      "Day_2: 35\n",
      "R_2 = 0.86\n",
      "Day_3: 61\n",
      "R_3 = 1.07\n"
     ]
    }
   ],
   "source": [
    "my_model = my_ipypm.model\n",
    "print('R_0 = {0:0.2f}'.format(6.58*my_model.parameters['alpha_0'].get_value()))\n",
    "for i in range(3):\n",
    "    j=i+1\n",
    "    if my_model.transitions['trans_rate_'+str(j)].enabled:\n",
    "        print('Day_'+str(j)+':',str(my_model.parameters['trans_rate_'+str(j)+'_time'].get_value()))\n",
    "        print('R_{0:d} = {1:0.2f}'.format(j,6.58*my_model.parameters['alpha_'+str(j)].get_value()))"
   ]
  },
  {
   "cell_type": "code",
   "execution_count": 5,
   "metadata": {},
   "outputs": [
    {
     "name": "stdout",
     "output_type": "stream",
     "text": [
      "Parameter   Description            min   max    prior     prior_mean   prior_w     mcmc_step   Init     Value \n",
      "==============================================================================================================\n",
      "alpha_0     initial transmission   0     2      uniform   1.000e+00    1.000e+00   None        0.475    0.475 \n",
      "            rate                                                                                              \n",
      "--------------------------------------------------------------------------------------------------------------\n",
      "alpha_1     transmission rate      0     2      uniform   1.000e+00    1.000e+00   None        0.154    0.154 \n",
      "            after 1st transition                                                                              \n",
      "--------------------------------------------------------------------------------------------------------------\n",
      "alpha_2     transmission rate      0     2      uniform   1.000e+00    1.000e+00   None        0.131    0.131 \n",
      "            after 2nd transition                                                                              \n",
      "--------------------------------------------------------------------------------------------------------------\n",
      "alpha_3     transmission rate      0     2      uniform   1.000e+00    1.000e+00   None        0.163    0.163 \n",
      "            after 3nd transition                                                                              \n",
      "--------------------------------------------------------------------------------------------------------------\n",
      "cont_0      Number of contagious   0     5000   uniform   2.500e+03    2.500e+03   None        53.461   53.461\n",
      "            people at t0                                                                                      \n"
     ]
    }
   ],
   "source": [
    "import pypmca.tools.table as ptt\n",
    "print(ptt.variable_parameter_table(my_model,width=110))"
   ]
  },
  {
   "cell_type": "markdown",
   "metadata": {},
   "source": [
    "## Uncertainty\n",
    "\n",
    "One way to report uncertainty is the standard deviation of the estimator. Let's do 50 simulations and look at the standard deviation of the estimates"
   ]
  },
  {
   "cell_type": "code",
   "execution_count": 12,
   "metadata": {},
   "outputs": [
    {
     "name": "stdout",
     "output_type": "stream",
     "text": [
      "[47.80854013  0.47447547  0.15506369  0.12981412  0.15535783]\n"
     ]
    }
   ],
   "source": [
    "import copy\n",
    "from pypmca.analysis.Optimizer import Optimizer\n",
    "ref_model = copy.deepcopy(my_ipypm.model)\n",
    "opt_model = copy.deepcopy(my_ipypm.model)\n",
    "sim_model = copy.deepcopy(my_ipypm.model)\n",
    "sim_model.reset()\n",
    "sim_model.generate_data(81)\n",
    "my_optimizer = Optimizer(opt_model,'total reported',sim_model.populations['reported'].history,[28,81])\n",
    "popt, pcov = my_optimizer.fit()\n",
    "print (popt)"
   ]
  },
  {
   "cell_type": "code",
   "execution_count": 7,
   "metadata": {},
   "outputs": [
    {
     "name": "stdout",
     "output_type": "stream",
     "text": [
      "0.47502630813191254 0.006541582871193975\n",
      "0.15441481673804724 0.003482734838837981\n",
      "0.1309574215280362 0.0013133193334604208\n",
      "0.16318711317733986 0.0026375494411537497\n"
     ]
    }
   ],
   "source": [
    "import numpy as np\n",
    "import matplotlib.pyplot as plt\n",
    "\n",
    "alphas = [[],[],[],[]]\n",
    "for i in range(50):\n",
    "    my_optimizer.reset_variables()\n",
    "    sim_model.reset()\n",
    "    sim_model.generate_data(81)\n",
    "    my_optimizer.data = sim_model.populations['reported'].history\n",
    "    popt, pcov = my_optimizer.fit()\n",
    "    for j in range(4):\n",
    "        alphas[j].append(popt[j+1])\n",
    "\n",
    "for i in range(4):\n",
    "    print(np.mean(alphas[i]),np.std(alphas[i]))"
   ]
  },
  {
   "cell_type": "markdown",
   "metadata": {},
   "source": [
    "The fits appear to be unbiased. \n",
    "\n",
    "Now check how much the variance of the estimators increase when including additional sources of noise:\n",
    "\n",
    "Ref model 2.1 includes two new features:\n",
    "* reporting noise (to account for large day to day fluctuations)\n",
    "* negative binomial distribution for infection generation (common in the discipline)\n",
    "\n",
    "\n",
    "Let's look at the daily data, where the reporting noise is very apparent"
   ]
  },
  {
   "cell_type": "code",
   "execution_count": 17,
   "metadata": {},
   "outputs": [],
   "source": [
    "def delta(cumul):\n",
    "    diff = []\n",
    "    for i in range(1, len(cumul)):\n",
    "        diff.append(cumul[i] - cumul[i - 1])\n",
    "    return diff\n",
    "\n",
    "fl_data = my_ipypm.optimizer.data\n",
    "sim_data = sim_model.populations['reported'].history\n",
    "ref_data = ref_model.populations['reported'].history\n",
    "\n",
    "# derive daily data from the cumulative\n",
    "fl_daily = delta(fl_data)\n",
    "sim_daily = delta(sim_data)\n",
    "ref_daily = delta(ref_data)\n",
    "\n",
    "t = range(len(fl_daily[:80]))"
   ]
  },
  {
   "cell_type": "markdown",
   "metadata": {},
   "source": [
    "# Reporting noise\n",
    "\n",
    "The default has the report_noise parameter = 1 (no noise)\n",
    "Clearly not representative of the data"
   ]
  },
  {
   "cell_type": "code",
   "execution_count": 19,
   "metadata": {},
   "outputs": [
    {
     "data": {
      "image/png": "[encoded data removed]",
      "text/plain": [
       "<Figure size 432x288 with 1 Axes>"
      ]
     },
     "metadata": {
      "needs_background": "light"
     },
     "output_type": "display_data"
    }
   ],
   "source": [
    "sim_model.parameters['report_noise'].set_value(1.)\n",
    "sim_model.reset()\n",
    "sim_model.generate_data(81)\n",
    "sim_data = sim_model.populations['reported'].history\n",
    "sim_daily = delta(sim_data)\n",
    "\n",
    "plt.step(t,ref_daily[:80])\n",
    "plt.scatter(t,fl_daily[:80], label='florida')\n",
    "plt.scatter(t,sim_daily[:80], label='simulation')\n",
    "plt.legend()\n",
    "plt.show()"
   ]
  },
  {
   "cell_type": "markdown",
   "metadata": {},
   "source": [
    "# Change the report noise parameter to 0.3\n",
    "\n",
    "This means that each day, a fraction of that day's positive cases (random: uniform between 0.3 and 1) are reported along with the previous day's positives that weren't reported that day."
   ]
  },
  {
   "cell_type": "code",
   "execution_count": 20,
   "metadata": {},
   "outputs": [
    {
     "data": {
      "image/png": "[encoded data removed]",
      "text/plain": [
       "<Figure size 432x288 with 1 Axes>"
      ]
     },
     "metadata": {
      "needs_background": "light"
     },
     "output_type": "display_data"
    }
   ],
   "source": [
    "sim_model.parameters['report_noise'].set_value(0.3)\n",
    "sim_model.reset()\n",
    "sim_model.generate_data(81)\n",
    "sim_data = sim_model.populations['reported'].history\n",
    "sim_daily = delta(sim_data)\n",
    "\n",
    "plt.step(t,ref_daily[:80])\n",
    "plt.scatter(t,fl_daily[:80], label='florida')\n",
    "plt.scatter(t,sim_daily[:80], label='simulation')\n",
    "plt.legend()\n",
    "plt.show()"
   ]
  },
  {
   "cell_type": "code",
   "execution_count": 21,
   "metadata": {},
   "outputs": [
    {
     "name": "stdout",
     "output_type": "stream",
     "text": [
      "0.4832533327728176 0.014478672121167276\n",
      "0.16149321757607374 0.005886275611657458\n",
      "0.13020677931197328 0.0018020069669639493\n",
      "0.16295647045413808 0.004221036043723268\n"
     ]
    }
   ],
   "source": [
    "# re-evaluate the standard deviations of the estimators\n",
    "\n",
    "alphas = [[],[],[],[]]\n",
    "for i in range(50):\n",
    "    my_optimizer.reset_variables()\n",
    "    sim_model.reset()\n",
    "    sim_model.generate_data(81)\n",
    "    my_optimizer.data = sim_model.populations['reported'].history\n",
    "    popt, pcov = my_optimizer.fit()\n",
    "    for j in range(4):\n",
    "        alphas[j].append(popt[j+1])\n",
    "\n",
    "for i in range(4):\n",
    "    print(np.mean(alphas[i]),np.std(alphas[i]))"
   ]
  },
  {
   "cell_type": "markdown",
   "metadata": {},
   "source": [
    "So the standard deviation increases somewhat by including the reporting noise\n",
    "\n",
    "\n",
    "## Negative binomial parameter in the infection cycle\n",
    "\n",
    "It seems common to not treat each infection as independent (ie. Poisson). Instead a negative binomial distribution is\n",
    "used. In the scipy.stats.nbinom function, there is an additional parameter, p, that scales the variance. With p=0.1,\n",
    "the variance is 10 times larger. Cannot rule that value out. Not sure what value to use though!\n",
    "\n",
    "Produce a plot showing difference between data and reference model."
   ]
  },
  {
   "cell_type": "code",
   "execution_count": 22,
   "metadata": {},
   "outputs": [
    {
     "data": {
      "image/png": "[encoded data removed]",
      "text/plain": [
       "<Figure size 432x288 with 1 Axes>"
      ]
     },
     "metadata": {
      "needs_background": "light"
     },
     "output_type": "display_data"
    }
   ],
   "source": [
    "sim_model.parameters['neg_binom_p'].set_value(0.1)\n",
    "sim_model.reset()\n",
    "sim_model.generate_data(81)\n",
    "sim_data = np.array(sim_model.populations['reported'].history)*1.\n",
    "sim_data *= ref_data[80]/sim_data[80]\n",
    "\n",
    "xdata = range(len(ref_data[:80]))\n",
    "plt.plot(xdata,np.array(fl_data[:80])-np.array(ref_data[:80]),label='florida')\n",
    "plt.plot(xdata,np.array(sim_data[:80])-np.array(ref_data[:80]),label='simulation')\n",
    "plt.legend()\n",
    "plt.show()"
   ]
  },
  {
   "cell_type": "code",
   "execution_count": 23,
   "metadata": {},
   "outputs": [
    {
     "name": "stdout",
     "output_type": "stream",
     "text": [
      "0.4846831052094269 0.01783731113696524\n",
      "0.16040763201312228 0.006889137074102179\n",
      "0.1307820818849589 0.002927635832220889\n",
      "0.1615382343699273 0.005749009493858253\n"
     ]
    }
   ],
   "source": [
    "alphas = [[],[],[],[]]\n",
    "for i in range(50):\n",
    "    my_optimizer.reset_variables()\n",
    "    sim_model.reset()\n",
    "    sim_model.generate_data(81)\n",
    "    my_optimizer.data = sim_model.populations['reported'].history\n",
    "    popt, pcov = my_optimizer.fit()\n",
    "    for j in range(4):\n",
    "        alphas[j].append(popt[j+1])\n",
    "\n",
    "for i in range(4):\n",
    "    print(np.mean(alphas[i]),np.std(alphas[i]))"
   ]
  },
  {
   "cell_type": "code",
   "execution_count": null,
   "metadata": {},
   "outputs": [],
   "source": []
  }
 ],
 "metadata": {
  "kernelspec": {
   "display_name": "Python 3",
   "language": "python",
   "name": "python3"
  },
  "language_info": {
   "codemirror_mode": {
    "name": "ipython",
    "version": 3
   },
   "file_extension": ".py",
   "mimetype": "text/x-python",
   "name": "python",
   "nbconvert_exporter": "python",
   "pygments_lexer": "ipython3",
   "version": "3.6.10"
  }
 },
 "nbformat": 4,
 "nbformat_minor": 4
}
